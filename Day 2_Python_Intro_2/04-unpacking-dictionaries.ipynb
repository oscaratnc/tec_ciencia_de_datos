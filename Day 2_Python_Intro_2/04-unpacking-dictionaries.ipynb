{
 "cells": [
  {
   "cell_type": "markdown",
   "metadata": {},
   "source": [
    "# Unpacking with Dictionaries"
   ]
  },
  {
   "cell_type": "markdown",
   "metadata": {},
   "source": [
    "Unpacking dictionaries is the opposite of packing them. It can be used if you have an existing dictionary that you would like to send to a function.\n",
    "\n",
    "Consider this code:"
   ]
  },
  {
   "cell_type": "code",
   "execution_count": null,
   "metadata": {},
   "outputs": [],
   "source": [
    "teacher = {\n",
    "  'name':'Ashley',\n",
    "  'job':'Instructor',\n",
    "  'topic':'Python'\n",
    "}"
   ]
  },
  {
   "cell_type": "code",
   "execution_count": null,
   "metadata": {},
   "outputs": [],
   "source": [
    "def print_teacher(name, job, topic):\n",
    "    print(name)\n",
    "    print(job)\n",
    "    print(topic)"
   ]
  },
  {
   "cell_type": "markdown",
   "metadata": {},
   "source": [
    "First, we have a dictionary called teacher that holds three key:value pairs: name, job, and topic, each with corresponding values.\n",
    "\n",
    "Then, we have a function called print_teacher that receives three arguments, name, job, and topic.\n",
    "\n",
    "To pass the data from the teacher dictionary to this function, we can use unpacking to easily and quickly extrapolate the data into a format the function will accept.\n",
    "\n",
    "To do that, we use a function call where the passed argument is `**teacher`."
   ]
  },
  {
   "cell_type": "code",
   "execution_count": null,
   "metadata": {},
   "outputs": [],
   "source": [
    "print_teacher(**teacher)"
   ]
  },
  {
   "cell_type": "markdown",
   "metadata": {},
   "source": [
    "This ** unpacks all the key:value pairs in the teacher dictionary into three keyword arguments, which are then accepted by the function into the three corresponding parameters."
   ]
  }
 ],
 "metadata": {
  "kernelspec": {
   "display_name": "Python 3",
   "language": "python",
   "name": "python3"
  },
  "language_info": {
   "codemirror_mode": {
    "name": "ipython",
    "version": 3
   },
   "file_extension": ".py",
   "mimetype": "text/x-python",
   "name": "python",
   "nbconvert_exporter": "python",
   "pygments_lexer": "ipython3",
   "version": "3.7.4"
  }
 },
 "nbformat": 4,
 "nbformat_minor": 4
}
