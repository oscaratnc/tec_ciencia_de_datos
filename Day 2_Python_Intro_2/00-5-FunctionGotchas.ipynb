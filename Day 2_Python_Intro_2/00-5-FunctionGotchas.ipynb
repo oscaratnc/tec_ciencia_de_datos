{
 "cells": [
  {
   "cell_type": "markdown",
   "metadata": {},
   "source": [
    "# Function Gotcha's"
   ]
  },
  {
   "cell_type": "code",
   "execution_count": null,
   "metadata": {},
   "outputs": [],
   "source": [
    "def add_two(num):\n",
    "    val = num + 2\n",
    "    return val"
   ]
  },
  {
   "cell_type": "markdown",
   "metadata": {},
   "source": [
    "Because we've written our add_two() function to receive an argument, we absolutely have to send one every single time we call the function. If we called add_two() without passing an argument, we'd get an error."
   ]
  },
  {
   "cell_type": "code",
   "execution_count": null,
   "metadata": {},
   "outputs": [],
   "source": [
    "# Correct\n",
    "add_two(4)"
   ]
  },
  {
   "cell_type": "code",
   "execution_count": null,
   "metadata": {},
   "outputs": [],
   "source": [
    "# Incorrect! Calling the function like this will throw an error.\n",
    "add_two()"
   ]
  },
  {
   "cell_type": "markdown",
   "metadata": {},
   "source": [
    "The error is a TypeError. It would say: add_two() takes exactly one argument, zero given."
   ]
  },
  {
   "cell_type": "markdown",
   "metadata": {},
   "source": [
    "## Parameter Values"
   ]
  },
  {
   "cell_type": "markdown",
   "metadata": {},
   "source": [
    "Another thing to note is that a parameter only has a value at the time of the function's execution. Once the function has finished executing, its parameter goes back to not having a value, unless the function is called again and a new argument is sent.\n",
    "\n",
    "For example, consider the following code:"
   ]
  },
  {
   "cell_type": "code",
   "execution_count": null,
   "metadata": {},
   "outputs": [],
   "source": [
    "# This is a for loop that iterates over the numbers 0 through 9.\n",
    "# On each iteration, it calls the add_two function, passes it the current number\n",
    "# and prints the returned value\n",
    "\n",
    "for num in range(10):\n",
    "    print(add_two(num))"
   ]
  },
  {
   "cell_type": "markdown",
   "metadata": {},
   "source": [
    "On each iteration of the loop, a different value is passed to the num parameter in the add_two function definition. The num parameter will reference that value until the function has finished executing. Then it won't reference anything until the next value is passed."
   ]
  }
 ],
 "metadata": {
  "kernelspec": {
   "display_name": "Python 3",
   "language": "python",
   "name": "python3"
  },
  "language_info": {
   "codemirror_mode": {
    "name": "ipython",
    "version": 3
   },
   "file_extension": ".py",
   "mimetype": "text/x-python",
   "name": "python",
   "nbconvert_exporter": "python",
   "pygments_lexer": "ipython3",
   "version": "3.7.4"
  }
 },
 "nbformat": 4,
 "nbformat_minor": 4
}
