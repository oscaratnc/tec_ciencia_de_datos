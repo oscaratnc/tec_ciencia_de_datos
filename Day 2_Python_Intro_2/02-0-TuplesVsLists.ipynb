{
 "cells": [
  {
   "cell_type": "markdown",
   "metadata": {},
   "source": [
    "# Tuples vs. Lists"
   ]
  },
  {
   "cell_type": "markdown",
   "metadata": {},
   "source": [
    "## Reassignment and Immutability"
   ]
  },
  {
   "cell_type": "markdown",
   "metadata": {},
   "source": [
    "### Use lists when you need to change your data or append more items."
   ]
  },
  {
   "cell_type": "markdown",
   "metadata": {},
   "source": [
    "Because tuples are immutable, they can't be altered. That means they aren't the right choice when you need to loop over data and append it to a data structure."
   ]
  },
  {
   "cell_type": "markdown",
   "metadata": {},
   "source": [
    "## Variable size"
   ]
  },
  {
   "cell_type": "markdown",
   "metadata": {},
   "source": [
    "### Use tuples when your data is fixed and pre-determined."
   ]
  },
  {
   "cell_type": "markdown",
   "metadata": {},
   "source": [
    "Lists are variable in size, meaning you can always add or remove items from them. That's why lists are the right choice when you don't know their contents ahead of time.\n",
    "\n",
    "Tuples can't be added to, so you need to know their contents ahead of time. They are a good choice if you have a fixed set of data."
   ]
  },
  {
   "cell_type": "markdown",
   "metadata": {},
   "source": [
    "## Homogeneous vs Heterogeneous Content"
   ]
  },
  {
   "cell_type": "markdown",
   "metadata": {},
   "source": [
    "### Use tuples for heterogeneous data and lists for homogeneous data"
   ]
  },
  {
   "cell_type": "markdown",
   "metadata": {},
   "source": [
    "Tuples are often used to store heterogeneous data. This meaning, if you have a mix of types, you'd probably use a tuple. Lists, however, are mostly used when you have homogeneous data - when all your data is of the same type.\n",
    "\n",
    "This is a semantic difference, and is not something that would impact the functionality of your code. It is a common use case, though. That's because lists are commonly used when you want to loop over data and perform an action on each item. That's easy to do without error if all items in a list are of the same type.\n",
    "\n",
    "Tuples, on the other hand, are fixed and created with pre-determined data. This means tuples can follow a \"schema\" that describes something. See the following example\n",
    "\n"
   ]
  },
  {
   "cell_type": "code",
   "execution_count": 1,
   "metadata": {},
   "outputs": [],
   "source": [
    "name = \"Juan\"\n",
    "age = 27\n",
    "address = \"Monterrey\""
   ]
  },
  {
   "cell_type": "code",
   "execution_count": 2,
   "metadata": {},
   "outputs": [],
   "source": [
    "# A tuple might contain data about a person (heterogeneous type mixture)\n",
    "person_a = (name, age, address)"
   ]
  },
  {
   "cell_type": "code",
   "execution_count": 3,
   "metadata": {},
   "outputs": [
    {
     "data": {
      "text/plain": [
       "('Juan', 27, 'Monterrey')"
      ]
     },
     "execution_count": 3,
     "metadata": {},
     "output_type": "execute_result"
    }
   ],
   "source": [
    "person_a"
   ]
  },
  {
   "cell_type": "code",
   "execution_count": 4,
   "metadata": {},
   "outputs": [],
   "source": [
    "person_b = (\"Pablo\", 28, \"California\")"
   ]
  },
  {
   "cell_type": "code",
   "execution_count": 5,
   "metadata": {},
   "outputs": [],
   "source": [
    "# A list might contain a list of people (homogeneous type mixture - all tuples!)\n",
    "people = [person_a, person_b]"
   ]
  },
  {
   "cell_type": "code",
   "execution_count": 6,
   "metadata": {},
   "outputs": [
    {
     "data": {
      "text/plain": [
       "[('Juan', 27, 'Monterrey'), ('Pablo', 28, 'California')]"
      ]
     },
     "execution_count": 6,
     "metadata": {},
     "output_type": "execute_result"
    }
   ],
   "source": [
    "people"
   ]
  },
  {
   "cell_type": "markdown",
   "metadata": {},
   "source": [
    "## Efficiency"
   ]
  },
  {
   "cell_type": "markdown",
   "metadata": {},
   "source": [
    "### Use tuples for faster and more efficient access."
   ]
  },
  {
   "cell_type": "markdown",
   "metadata": {},
   "source": [
    "Because tuples are immutable, they are accessed more quickly and are more memory efficient than lists. This means that, as long as you know your data isn't going to change, a tuple is the more performant choice."
   ]
  }
 ],
 "metadata": {
  "kernelspec": {
   "display_name": "Python 3",
   "language": "python",
   "name": "python3"
  },
  "language_info": {
   "codemirror_mode": {
    "name": "ipython",
    "version": 3
   },
   "file_extension": ".py",
   "mimetype": "text/x-python",
   "name": "python",
   "nbconvert_exporter": "python",
   "pygments_lexer": "ipython3",
   "version": "3.7.4"
  }
 },
 "nbformat": 4,
 "nbformat_minor": 4
}
