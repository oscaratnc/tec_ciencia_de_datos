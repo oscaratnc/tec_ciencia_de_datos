{
 "cells": [
  {
   "cell_type": "markdown",
   "metadata": {},
   "source": [
    "## Inputs Activity\n"
   ]
  },
  {
   "cell_type": "markdown",
   "metadata": {},
   "source": [
    "Complete the code asked in the comment section."
   ]
  },
  {
   "cell_type": "code",
   "execution_count": 2,
   "metadata": {},
   "outputs": [],
   "source": [
    "from numpy import mean "
   ]
  },
  {
   "cell_type": "markdown",
   "metadata": {},
   "source": [
    "1. Take input of the name each of  team member and save the results in variables."
   ]
  },
  {
   "cell_type": "code",
   "execution_count": 4,
   "metadata": {},
   "outputs": [
    {
     "name": "stdout",
     "output_type": "stream",
     "text": [
      "What is your first name?name1\n",
      "What is your first name?name2\n"
     ]
    }
   ],
   "source": [
    "member1_name = input(\"What is your first name?\")\n",
    "member2_name = input(\"What is your first name?\")"
   ]
  },
  {
   "cell_type": "markdown",
   "metadata": {},
   "source": [
    "ask for the ID number for each team member"
   ]
  },
  {
   "cell_type": "code",
   "execution_count": 5,
   "metadata": {},
   "outputs": [
    {
     "name": "stdout",
     "output_type": "stream",
     "text": [
      "What is your first member ID?A011111\n",
      "What is your second member ID?A022222\n"
     ]
    }
   ],
   "source": [
    "member1_ID = input(\"What is your first member ID?\")\n",
    "member2_ID = input(\"What is your second member ID?\")"
   ]
  },
  {
   "cell_type": "markdown",
   "metadata": {},
   "source": [
    "2. ask for the ages of each of the members"
   ]
  },
  {
   "cell_type": "code",
   "execution_count": 10,
   "metadata": {},
   "outputs": [
    {
     "name": "stdout",
     "output_type": "stream",
     "text": [
      "What is your age first member?23\n",
      "What is your age second member?23\n"
     ]
    }
   ],
   "source": [
    "member1_age = int( input(\"What is your age first member?\") )\n",
    "member2_age = int( input(\"What is your age second member?\"))"
   ]
  },
  {
   "cell_type": "markdown",
   "metadata": {},
   "source": [
    "3. calculate the average age of your team."
   ]
  },
  {
   "cell_type": "code",
   "execution_count": 18,
   "metadata": {},
   "outputs": [],
   "source": [
    "avg_age = mean([member1_age,member2_age])"
   ]
  },
  {
   "cell_type": "markdown",
   "metadata": {},
   "source": [
    "Print results using three forms of string formulation:\n",
    "- print the names of the team members one for the teams member (one per line)\n",
    "- print combinations of name and ID number\n",
    "- print a sentence refering the average of the ages.\n"
   ]
  },
  {
   "cell_type": "code",
   "execution_count": 19,
   "metadata": {},
   "outputs": [
    {
     "name": "stdout",
     "output_type": "stream",
     "text": [
      "name1\n",
      "name2\n",
      "name1\n",
      "name1 A011111\n",
      "name2 A022222\n",
      "The AVG of our ages is: 23.0\n"
     ]
    }
   ],
   "source": [
    "print(f\"{member1_name}\\n{member2_name}\\n{member1_name}\")\n",
    "print(member1_name, member1_ID)\n",
    "print(member2_name, member2_ID)\n",
    "print(\"The AVG of our ages is:\",avg_age )\n"
   ]
  },
  {
   "cell_type": "code",
   "execution_count": null,
   "metadata": {},
   "outputs": [],
   "source": []
  }
 ],
 "metadata": {
  "kernelspec": {
   "display_name": "Python 3.7.4 64-bit ('05-Matplotlib': pipenv)",
   "language": "python",
   "name": "python37464bit05matplotlibpipenv5da0b989802349f8bbccd9c16375d11c"
  },
  "language_info": {
   "codemirror_mode": {
    "name": "ipython",
    "version": 3
   },
   "file_extension": ".py",
   "mimetype": "text/x-python",
   "name": "python",
   "nbconvert_exporter": "python",
   "pygments_lexer": "ipython3",
   "version": "3.7.4"
  }
 },
 "nbformat": 4,
 "nbformat_minor": 2
}
